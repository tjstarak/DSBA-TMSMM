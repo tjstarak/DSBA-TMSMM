{
 "cells": [
  {
   "cell_type": "code",
   "execution_count": 104,
   "metadata": {},
   "outputs": [],
   "source": [
    "import pandas as pd\n",
    "import numpy as np\n",
    "\n",
    "from sklearn.feature_extraction.text import CountVectorizer, TfidfVectorizer\n",
    "from sklearn.model_selection import StratifiedKFold\n",
    "from sklearn.naive_bayes import MultinomialNB\n",
    "from sklearn.pipeline import make_pipeline\n",
    "from sklearn import metrics"
   ]
  },
  {
   "cell_type": "code",
   "execution_count": 83,
   "metadata": {},
   "outputs": [],
   "source": [
    "reviews = pd.read_parquet('../data/reviews_sample_proc.parquet')[['partition', 'rating', 'original', 'original_proc', 'original_proc_no_stop', 'translated', 'translated_proc', 'translated_proc_no_stop']]\n",
    "train = reviews.query('partition == \"train\"')\n",
    "test = reviews.query('partition == \"test\"')"
   ]
  },
  {
   "cell_type": "code",
   "execution_count": 97,
   "metadata": {},
   "outputs": [
    {
     "name": "stdout",
     "output_type": "stream",
     "text": [
      "              precision    recall  f1-score   support\n",
      "\n",
      "           1       0.62      0.69      0.65     10000\n",
      "           2       0.45      0.43      0.44     10000\n",
      "           3       0.45      0.39      0.42     10000\n",
      "           4       0.54      0.57      0.55     10000\n",
      "           5       0.79      0.78      0.78     10000\n",
      "\n",
      "    accuracy                           0.57     50000\n",
      "   macro avg       0.57      0.57      0.57     50000\n",
      "weighted avg       0.57      0.57      0.57     50000\n",
      "\n"
     ]
    }
   ],
   "source": [
    "X_train = train['original'].to_numpy()\n",
    "y_train = train['rating'].to_numpy()\n",
    "\n",
    "cv = StratifiedKFold(n_splits=5, random_state=123, shuffle=True)\n",
    "pipe = make_pipeline(CountVectorizer(min_df=50), MultinomialNB())\n",
    "\n",
    "y_preds = []\n",
    "y_true = []\n",
    "\n",
    "for i, (train_ix, test_ix) in enumerate(cv.split(X_train, y_train)):\n",
    "    y_pred = pipe.fit(X_train[train_ix], y_train[train_ix]).predict(X_train[test_ix])\n",
    "    y_preds.extend(y_pred)\n",
    "    y_true.extend(y_train[test_ix])\n",
    "\n",
    "print(metrics.classification_report(y_true, y_preds))"
   ]
  },
  {
   "cell_type": "code",
   "execution_count": 98,
   "metadata": {},
   "outputs": [
    {
     "name": "stdout",
     "output_type": "stream",
     "text": [
      "              precision    recall  f1-score   support\n",
      "\n",
      "           1       0.60      0.68      0.64     10000\n",
      "           2       0.43      0.42      0.43     10000\n",
      "           3       0.43      0.38      0.40     10000\n",
      "           4       0.53      0.56      0.54     10000\n",
      "           5       0.79      0.76      0.78     10000\n",
      "\n",
      "    accuracy                           0.56     50000\n",
      "   macro avg       0.56      0.56      0.56     50000\n",
      "weighted avg       0.56      0.56      0.56     50000\n",
      "\n"
     ]
    }
   ],
   "source": [
    "X_train = train['translated'].to_numpy()\n",
    "y_train = train['rating'].to_numpy()\n",
    "\n",
    "cv = StratifiedKFold(n_splits=5, random_state=123, shuffle=True)\n",
    "pipe = make_pipeline(CountVectorizer(min_df=50), MultinomialNB())\n",
    "\n",
    "y_preds = []\n",
    "y_true = []\n",
    "\n",
    "for i, (train_ix, test_ix) in enumerate(cv.split(X_train, y_train)):\n",
    "    y_pred = pipe.fit(X_train[train_ix], y_train[train_ix]).predict(X_train[test_ix])\n",
    "    y_preds.extend(y_pred)\n",
    "    y_true.extend(y_train[test_ix])\n",
    "\n",
    "print(metrics.classification_report(y_true, y_preds))"
   ]
  },
  {
   "cell_type": "code",
   "execution_count": 87,
   "metadata": {},
   "outputs": [
    {
     "name": "stdout",
     "output_type": "stream",
     "text": [
      "              precision    recall  f1-score   support\n",
      "\n",
      "           1       0.63      0.66      0.65     10000\n",
      "           2       0.42      0.47      0.45     10000\n",
      "           3       0.43      0.39      0.41     10000\n",
      "           4       0.55      0.56      0.55     10000\n",
      "           5       0.82      0.73      0.78     10000\n",
      "\n",
      "    accuracy                           0.56     50000\n",
      "   macro avg       0.57      0.56      0.57     50000\n",
      "weighted avg       0.57      0.56      0.57     50000\n",
      "\n"
     ]
    }
   ],
   "source": [
    "cv = StratifiedKFold(n_splits=5, random_state=123, shuffle=True)\n",
    "pipe = make_pipeline(CountVectorizer(), MultinomialNB())\n",
    "\n",
    "y_preds = []\n",
    "y_true = []\n",
    "\n",
    "for i, (train_ix, test_ix) in enumerate(cv.split(X_train, y_train)):\n",
    "    vectorizer = CountVectorizer()\n",
    "    mx = vectorizer.fit_transform(X_train[train_ix])\n",
    "    mx[mx >= 1] = 1\n",
    "    nb = MultinomialNB().fit(mx, y_train[train_ix])\n",
    "    y_pred = nb.predict(vectorizer.transform(X_train[test_ix]))\n",
    "    y_preds.extend(y_pred)\n",
    "    y_true.extend(y_train[test_ix])\n",
    "\n",
    "print(metrics.classification_report(y_true, y_preds))"
   ]
  }
 ],
 "metadata": {
  "kernelspec": {
   "display_name": "tmsmm",
   "language": "python",
   "name": "python3"
  },
  "language_info": {
   "codemirror_mode": {
    "name": "ipython",
    "version": 3
   },
   "file_extension": ".py",
   "mimetype": "text/x-python",
   "name": "python",
   "nbconvert_exporter": "python",
   "pygments_lexer": "ipython3",
   "version": "3.10.9"
  },
  "orig_nbformat": 4,
  "vscode": {
   "interpreter": {
    "hash": "056f66996a9c4d81c65e6002a1ca08da18a62e1c6e37a0ec081f5552e597d624"
   }
  }
 },
 "nbformat": 4,
 "nbformat_minor": 2
}
