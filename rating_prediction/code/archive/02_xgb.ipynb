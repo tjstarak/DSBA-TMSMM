{
 "cells": [
  {
   "cell_type": "code",
   "execution_count": 1,
   "metadata": {},
   "outputs": [],
   "source": [
    "import pandas as pd\n",
    "import numpy as np\n",
    "import xgboost as xgb\n",
    "\n",
    "from sklearn.pipeline import make_pipeline\n",
    "from sklearn.feature_extraction.text import TfidfVectorizer\n",
    "from sklearn.model_selection import StratifiedKFold\n",
    "from sklearn import metrics\n",
    "\n",
    "from mlxtend.preprocessing import DenseTransformer\n",
    "\n",
    "import optuna\n",
    "from optuna.samplers import TPESampler"
   ]
  },
  {
   "cell_type": "code",
   "execution_count": 10,
   "metadata": {},
   "outputs": [],
   "source": [
    "reviews = pd.read_parquet('../data/reviews_sample_proc.parquet')\n",
    "train = reviews.query('partition == \"train\"')\n",
    "test = reviews.query('partition == \"test\"')"
   ]
  },
  {
   "cell_type": "code",
   "execution_count": 22,
   "metadata": {},
   "outputs": [
    {
     "data": {
      "text/plain": [
       "146"
      ]
     },
     "execution_count": 22,
     "metadata": {},
     "output_type": "execute_result"
    }
   ],
   "source": [
    "train['original'].apply(lambda x: len(x)).min()"
   ]
  },
  {
   "cell_type": "code",
   "execution_count": 3,
   "metadata": {},
   "outputs": [],
   "source": [
    "X_train = train['original'].to_numpy()\n",
    "y_train = train['rating'].to_numpy() - 1"
   ]
  },
  {
   "cell_type": "code",
   "execution_count": 18,
   "metadata": {},
   "outputs": [
    {
     "data": {
      "text/plain": [
       "Index(['original', 'translated', 'rating', 'partition', 'original_proc',\n",
       "       'original_proc_no_stop', 'translated_proc', 'translated_proc_no_stop'],\n",
       "      dtype='object')"
      ]
     },
     "execution_count": 18,
     "metadata": {},
     "output_type": "execute_result"
    }
   ],
   "source": [
    "train.columns"
   ]
  },
  {
   "cell_type": "code",
   "execution_count": null,
   "metadata": {},
   "outputs": [],
   "source": [
    "%%time\n",
    "\n",
    "cv = StratifiedKFold(n_splits=3, shuffle=True, random_state=123)\n",
    "y_preds = []\n",
    "y_true = []\n",
    "scores = []\n",
    "n_rounds = []\n",
    "for (train_ix, test_ix) in cv.split(X_train, y_train):\n",
    "    params = {\n",
    "        'eta': 0.3,\n",
    "        'max_depth': 5,\n",
    "        'objective': 'multi:softmax',\n",
    "        'num_class': 5,\n",
    "        'eval_metric': 'mlogloss',\n",
    "        'early_stopping_rounds': 5,\n",
    "        'n_estimators': 10,\n",
    "    }\n",
    "    # fit_params = {\n",
    "    #     'xgbclassifier__eval_set': [(X_train[test_ix], y_train[test_ix])],\n",
    "    # }\n",
    "\n",
    "    vectorizer = TfidfVectorizer(min_df=50)\n",
    "    X_train_vec = vectorizer.fit_transform(X_train[train_ix])\n",
    "    X_val_vec = vectorizer.transform(X_train[test_ix])\n",
    "    clf = xgb.XGBClassifier(**params)\n",
    "    clf.fit(X_train_vec, y_train[train_ix], eval_set=[(X_val_vec, y_train[test_ix])], verbose=False)\n",
    "    scores.append(clf.best_score)\n",
    "    n_rounds.append(clf.get_num_boosting_rounds())\n",
    "    y_preds.extend(clf.predict(X_val_vec))\n",
    "    y_true.extend(y_train[test_ix])"
   ]
  },
  {
   "cell_type": "code",
   "execution_count": 55,
   "metadata": {},
   "outputs": [
    {
     "name": "stdout",
     "output_type": "stream",
     "text": [
      "              precision    recall  f1-score   support\n",
      "\n",
      "           0       0.53      0.65      0.58     10000\n",
      "           1       0.39      0.28      0.33     10000\n",
      "           2       0.36      0.39      0.38     10000\n",
      "           3       0.45      0.40      0.42     10000\n",
      "           4       0.62      0.67      0.64     10000\n",
      "\n",
      "    accuracy                           0.48     50000\n",
      "   macro avg       0.47      0.48      0.47     50000\n",
      "weighted avg       0.47      0.48      0.47     50000\n",
      "\n"
     ]
    }
   ],
   "source": [
    "print(metrics.classification_report(y_true, y_preds))"
   ]
  },
  {
   "cell_type": "code",
   "execution_count": 16,
   "metadata": {},
   "outputs": [
    {
     "name": "stderr",
     "output_type": "stream",
     "text": [
      "\u001b[32m[I 2023-02-15 14:24:33,716]\u001b[0m A new study created in memory with name: no-name-54464745-6b7f-4d52-a3e0-4ea0ef69fa04\u001b[0m\n",
      "\u001b[32m[I 2023-02-15 14:24:43,175]\u001b[0m Trial 0 finished with value: 0.45410934358116306 and parameters: {'max_depth': 7}. Best is trial 0 with value: 0.45410934358116306.\u001b[0m\n",
      "\u001b[32m[I 2023-02-15 14:24:53,376]\u001b[0m Trial 1 finished with value: 0.46091616686299763 and parameters: {'max_depth': 8}. Best is trial 1 with value: 0.46091616686299763.\u001b[0m\n",
      "\u001b[32m[I 2023-02-15 14:25:03,574]\u001b[0m Trial 2 finished with value: 0.46091616686299763 and parameters: {'max_depth': 8}. Best is trial 1 with value: 0.46091616686299763.\u001b[0m\n"
     ]
    },
    {
     "name": "stdout",
     "output_type": "stream",
     "text": [
      "CPU times: user 2min 9s, sys: 1.71 s, total: 2min 11s\n",
      "Wall time: 29.9 s\n"
     ]
    },
    {
     "data": {
      "text/html": [
       "<div>\n",
       "<style scoped>\n",
       "    .dataframe tbody tr th:only-of-type {\n",
       "        vertical-align: middle;\n",
       "    }\n",
       "\n",
       "    .dataframe tbody tr th {\n",
       "        vertical-align: top;\n",
       "    }\n",
       "\n",
       "    .dataframe thead th {\n",
       "        text-align: right;\n",
       "    }\n",
       "</style>\n",
       "<table border=\"1\" class=\"dataframe\">\n",
       "  <thead>\n",
       "    <tr style=\"text-align: right;\">\n",
       "      <th></th>\n",
       "      <th>Iteration number</th>\n",
       "      <th>Score</th>\n",
       "      <th>max_depth</th>\n",
       "    </tr>\n",
       "  </thead>\n",
       "  <tbody>\n",
       "    <tr>\n",
       "      <th>0</th>\n",
       "      <td>1</td>\n",
       "      <td>0.460916</td>\n",
       "      <td>8</td>\n",
       "    </tr>\n",
       "  </tbody>\n",
       "</table>\n",
       "</div>"
      ],
      "text/plain": [
       "   Iteration number     Score  max_depth\n",
       "0                 1  0.460916          8"
      ]
     },
     "execution_count": 16,
     "metadata": {},
     "output_type": "execute_result"
    }
   ],
   "source": [
    "%%time\n",
    "\n",
    "def objective(trial):\n",
    "    params = {\n",
    "        'eta': 0.3,\n",
    "        # 'max_depth': 5,\n",
    "        'max_depth': trial.suggest_int('max_depth', low=5, high=8),\n",
    "        # 'scale_pos_weight': trial.suggest_float('scale_pos_weight', low=1, high=3, step=0.25),\n",
    "        # 'colsample_bytree': trial.suggest_float('colsample_bytree', low=0.75, high=0.9, step=0.05),\n",
    "        # 'subsample': trial.suggest_float('subsample', low=0.975, high=1, step=0.001),\n",
    "        # 'min_child_weight': trial.suggest_float('min_child_weight', low=1, high=3, step=0.1),\n",
    "        # 'alpha': trial.suggest_float('alpha', low=0, high=0.3, step=0.01),\n",
    "        'objective': 'multi:softmax',\n",
    "        'num_class': 5,\n",
    "        'eval_metric': 'mlogloss',\n",
    "        'early_stopping_rounds': 5,\n",
    "        'n_estimators': 5,\n",
    "    }\n",
    "\n",
    "    cv = StratifiedKFold(n_splits=3, shuffle=True, random_state=123)\n",
    "\n",
    "    y_preds = []\n",
    "    y_true = []\n",
    "    scores = []\n",
    "    n_rounds = []\n",
    "    for (train_ix, test_ix) in cv.split(X_train, y_train):\n",
    "        vectorizer = TfidfVectorizer(min_df=50)\n",
    "        X_train_vec = vectorizer.fit_transform(X_train[train_ix])\n",
    "        X_val_vec = vectorizer.transform(X_train[test_ix])\n",
    "        clf = xgb.XGBClassifier(**params)\n",
    "        clf.fit(X_train_vec, y_train[train_ix], eval_set=[(X_val_vec, y_train[test_ix])], verbose=False)\n",
    "        scores.append(clf.best_score)\n",
    "        n_rounds.append(clf.best_iteration)\n",
    "        y_preds.extend(clf.predict(X_val_vec))\n",
    "        y_true.extend(y_train[test_ix])\n",
    "\n",
    "    # score = np.mean(scores)\n",
    "    score = metrics.f1_score(y_true, y_preds, average='macro')\n",
    "    \n",
    "    return score\n",
    "\n",
    "study = optuna.create_study(sampler=TPESampler(), direction='maximize')\n",
    "study.optimize(objective, n_trials=3)\n",
    "\n",
    "cols = ['Iteration number', 'Score'] + list(study.best_params.keys())\n",
    "results = [study.best_trial.number, study.best_trial.value] + list(study.best_params.values())\n",
    "results_df = pd.DataFrame([results], columns = cols)\n",
    "results_df"
   ]
  }
 ],
 "metadata": {
  "kernelspec": {
   "display_name": "tmsmm",
   "language": "python",
   "name": "python3"
  },
  "language_info": {
   "codemirror_mode": {
    "name": "ipython",
    "version": 3
   },
   "file_extension": ".py",
   "mimetype": "text/x-python",
   "name": "python",
   "nbconvert_exporter": "python",
   "pygments_lexer": "ipython3",
   "version": "3.10.9"
  },
  "orig_nbformat": 4,
  "vscode": {
   "interpreter": {
    "hash": "056f66996a9c4d81c65e6002a1ca08da18a62e1c6e37a0ec081f5552e597d624"
   }
  }
 },
 "nbformat": 4,
 "nbformat_minor": 2
}
