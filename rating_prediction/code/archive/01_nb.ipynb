{
 "cells": [
  {
   "cell_type": "code",
   "execution_count": 1,
   "metadata": {},
   "outputs": [],
   "source": [
    "import pandas as pd\n",
    "import numpy as np\n",
    "\n",
    "from sklearn.feature_extraction.text import CountVectorizer\n",
    "from sklearn.model_selection import StratifiedKFold\n",
    "from sklearn.naive_bayes import MultinomialNB\n",
    "from sklearn.pipeline import make_pipeline\n",
    "from sklearn import metrics"
   ]
  },
  {
   "cell_type": "code",
   "execution_count": 3,
   "metadata": {},
   "outputs": [],
   "source": [
    "reviews = pd.read_parquet('../data/reviews_sample_proc.parquet')\n",
    "train = reviews.query('partition == \"train\"')\n",
    "test = reviews.query('partition == \"test\"')"
   ]
  },
  {
   "attachments": {},
   "cell_type": "markdown",
   "metadata": {},
   "source": [
    "#### Polish text, raw (punctuation removed)"
   ]
  },
  {
   "cell_type": "code",
   "execution_count": 21,
   "metadata": {},
   "outputs": [
    {
     "name": "stdout",
     "output_type": "stream",
     "text": [
      "              precision    recall  f1-score   support\n",
      "\n",
      "           1       0.62      0.69      0.65     10000\n",
      "           2       0.45      0.43      0.44     10000\n",
      "           3       0.45      0.39      0.42     10000\n",
      "           4       0.54      0.57      0.55     10000\n",
      "           5       0.79      0.78      0.78     10000\n",
      "\n",
      "    accuracy                           0.57     50000\n",
      "   macro avg       0.57      0.57      0.57     50000\n",
      "weighted avg       0.57      0.57      0.57     50000\n",
      "\n",
      "              precision    recall  f1-score   support\n",
      "\n",
      "           1       0.61      0.69      0.65      2500\n",
      "           2       0.44      0.41      0.43      2500\n",
      "           3       0.45      0.42      0.43      2500\n",
      "           4       0.56      0.59      0.57      2500\n",
      "           5       0.81      0.79      0.80      2500\n",
      "\n",
      "    accuracy                           0.58     12500\n",
      "   macro avg       0.58      0.58      0.58     12500\n",
      "weighted avg       0.58      0.58      0.58     12500\n",
      "\n"
     ]
    }
   ],
   "source": [
    "scope = 'original'\n",
    "X_train = train[scope].to_numpy()\n",
    "y_train = train['rating'].to_numpy()\n",
    "\n",
    "X_test = test[scope].to_numpy()\n",
    "y_test = test['rating'].to_numpy()\n",
    "\n",
    "cv = StratifiedKFold(n_splits=5, random_state=123, shuffle=True)\n",
    "pipe = make_pipeline(CountVectorizer(min_df=50), MultinomialNB())\n",
    "\n",
    "y_preds = []\n",
    "y_true = []\n",
    "\n",
    "for i, (train_ix, test_ix) in enumerate(cv.split(X_train, y_train)):\n",
    "    y_pred = pipe.fit(X_train[train_ix], y_train[train_ix]).predict(X_train[test_ix])\n",
    "    y_preds.extend(y_pred)\n",
    "    y_true.extend(y_train[test_ix])\n",
    "\n",
    "print(metrics.classification_report(y_true, y_preds))\n",
    "\n",
    "pipe.fit(X_train, y_train)\n",
    "\n",
    "y_test_pred = pipe.predict(X_test)\n",
    "print(metrics.classification_report(y_test, y_test_pred))"
   ]
  },
  {
   "attachments": {},
   "cell_type": "markdown",
   "metadata": {},
   "source": [
    "#### Polish text, lemmatized"
   ]
  },
  {
   "cell_type": "code",
   "execution_count": 22,
   "metadata": {},
   "outputs": [
    {
     "name": "stdout",
     "output_type": "stream",
     "text": [
      "              precision    recall  f1-score   support\n",
      "\n",
      "           1       0.60      0.69      0.64     10000\n",
      "           2       0.44      0.43      0.43     10000\n",
      "           3       0.44      0.38      0.41     10000\n",
      "           4       0.54      0.56      0.55     10000\n",
      "           5       0.79      0.77      0.78     10000\n",
      "\n",
      "    accuracy                           0.57     50000\n",
      "   macro avg       0.56      0.57      0.56     50000\n",
      "weighted avg       0.56      0.57      0.56     50000\n",
      "\n",
      "              precision    recall  f1-score   support\n",
      "\n",
      "           1       0.60      0.68      0.64      2500\n",
      "           2       0.44      0.42      0.43      2500\n",
      "           3       0.44      0.39      0.41      2500\n",
      "           4       0.54      0.58      0.56      2500\n",
      "           5       0.81      0.77      0.79      2500\n",
      "\n",
      "    accuracy                           0.57     12500\n",
      "   macro avg       0.57      0.57      0.57     12500\n",
      "weighted avg       0.57      0.57      0.57     12500\n",
      "\n"
     ]
    }
   ],
   "source": [
    "scope = 'original_proc'\n",
    "X_train = train[scope].to_numpy()\n",
    "y_train = train['rating'].to_numpy()\n",
    "\n",
    "X_test = test[scope].to_numpy()\n",
    "y_test = test['rating'].to_numpy()\n",
    "\n",
    "cv = StratifiedKFold(n_splits=5, random_state=123, shuffle=True)\n",
    "pipe = make_pipeline(CountVectorizer(min_df=50), MultinomialNB())\n",
    "\n",
    "y_preds = []\n",
    "y_true = []\n",
    "\n",
    "for i, (train_ix, test_ix) in enumerate(cv.split(X_train, y_train)):\n",
    "    y_pred = pipe.fit(X_train[train_ix], y_train[train_ix]).predict(X_train[test_ix])\n",
    "    y_preds.extend(y_pred)\n",
    "    y_true.extend(y_train[test_ix])\n",
    "\n",
    "print(metrics.classification_report(y_true, y_preds))\n",
    "\n",
    "pipe.fit(X_train, y_train)\n",
    "\n",
    "y_test_pred = pipe.predict(X_test)\n",
    "print(metrics.classification_report(y_test, y_test_pred))"
   ]
  },
  {
   "attachments": {},
   "cell_type": "markdown",
   "metadata": {},
   "source": [
    "#### Polish text, lemmatized with no stopwords"
   ]
  },
  {
   "cell_type": "code",
   "execution_count": 23,
   "metadata": {},
   "outputs": [
    {
     "name": "stdout",
     "output_type": "stream",
     "text": [
      "              precision    recall  f1-score   support\n",
      "\n",
      "           1       0.59      0.67      0.63     10000\n",
      "           2       0.43      0.42      0.42     10000\n",
      "           3       0.43      0.37      0.40     10000\n",
      "           4       0.52      0.55      0.54     10000\n",
      "           5       0.77      0.76      0.77     10000\n",
      "\n",
      "    accuracy                           0.55     50000\n",
      "   macro avg       0.55      0.55      0.55     50000\n",
      "weighted avg       0.55      0.55      0.55     50000\n",
      "\n",
      "              precision    recall  f1-score   support\n",
      "\n",
      "           1       0.59      0.67      0.63      2500\n",
      "           2       0.42      0.40      0.41      2500\n",
      "           3       0.43      0.38      0.41      2500\n",
      "           4       0.53      0.56      0.55      2500\n",
      "           5       0.78      0.76      0.77      2500\n",
      "\n",
      "    accuracy                           0.55     12500\n",
      "   macro avg       0.55      0.55      0.55     12500\n",
      "weighted avg       0.55      0.55      0.55     12500\n",
      "\n"
     ]
    }
   ],
   "source": [
    "scope = 'original_proc_no_stop'\n",
    "X_train = train[scope].to_numpy()\n",
    "y_train = train['rating'].to_numpy()\n",
    "\n",
    "X_test = test[scope].to_numpy()\n",
    "y_test = test['rating'].to_numpy()\n",
    "\n",
    "cv = StratifiedKFold(n_splits=5, random_state=123, shuffle=True)\n",
    "pipe = make_pipeline(CountVectorizer(min_df=50), MultinomialNB())\n",
    "\n",
    "y_preds = []\n",
    "y_true = []\n",
    "\n",
    "for i, (train_ix, test_ix) in enumerate(cv.split(X_train, y_train)):\n",
    "    y_pred = pipe.fit(X_train[train_ix], y_train[train_ix]).predict(X_train[test_ix])\n",
    "    y_preds.extend(y_pred)\n",
    "    y_true.extend(y_train[test_ix])\n",
    "\n",
    "print(metrics.classification_report(y_true, y_preds))\n",
    "\n",
    "pipe.fit(X_train, y_train)\n",
    "\n",
    "y_test_pred = pipe.predict(X_test)\n",
    "print(metrics.classification_report(y_test, y_test_pred))"
   ]
  },
  {
   "attachments": {},
   "cell_type": "markdown",
   "metadata": {},
   "source": [
    "#### English translation, raw (punctuation removed)"
   ]
  },
  {
   "cell_type": "code",
   "execution_count": 24,
   "metadata": {},
   "outputs": [
    {
     "name": "stdout",
     "output_type": "stream",
     "text": [
      "              precision    recall  f1-score   support\n",
      "\n",
      "           1       0.60      0.68      0.64     10000\n",
      "           2       0.43      0.42      0.43     10000\n",
      "           3       0.43      0.38      0.40     10000\n",
      "           4       0.53      0.56      0.54     10000\n",
      "           5       0.79      0.76      0.78     10000\n",
      "\n",
      "    accuracy                           0.56     50000\n",
      "   macro avg       0.56      0.56      0.56     50000\n",
      "weighted avg       0.56      0.56      0.56     50000\n",
      "\n",
      "              precision    recall  f1-score   support\n",
      "\n",
      "           1       0.60      0.68      0.64      2500\n",
      "           2       0.44      0.41      0.42      2500\n",
      "           3       0.43      0.39      0.41      2500\n",
      "           4       0.53      0.57      0.55      2500\n",
      "           5       0.79      0.77      0.78      2500\n",
      "\n",
      "    accuracy                           0.56     12500\n",
      "   macro avg       0.56      0.56      0.56     12500\n",
      "weighted avg       0.56      0.56      0.56     12500\n",
      "\n"
     ]
    }
   ],
   "source": [
    "scope = 'translated'\n",
    "X_train = train[scope].to_numpy()\n",
    "y_train = train['rating'].to_numpy()\n",
    "\n",
    "X_test = test[scope].to_numpy()\n",
    "y_test = test['rating'].to_numpy()\n",
    "\n",
    "cv = StratifiedKFold(n_splits=5, random_state=123, shuffle=True)\n",
    "pipe = make_pipeline(CountVectorizer(min_df=50), MultinomialNB())\n",
    "\n",
    "y_preds = []\n",
    "y_true = []\n",
    "\n",
    "for i, (train_ix, test_ix) in enumerate(cv.split(X_train, y_train)):\n",
    "    y_pred = pipe.fit(X_train[train_ix], y_train[train_ix]).predict(X_train[test_ix])\n",
    "    y_preds.extend(y_pred)\n",
    "    y_true.extend(y_train[test_ix])\n",
    "\n",
    "print(metrics.classification_report(y_true, y_preds))\n",
    "\n",
    "pipe.fit(X_train, y_train)\n",
    "\n",
    "y_test_pred = pipe.predict(X_test)\n",
    "print(metrics.classification_report(y_test, y_test_pred))"
   ]
  },
  {
   "attachments": {},
   "cell_type": "markdown",
   "metadata": {},
   "source": [
    "#### English translation, lemmatized"
   ]
  },
  {
   "cell_type": "code",
   "execution_count": 25,
   "metadata": {},
   "outputs": [
    {
     "name": "stdout",
     "output_type": "stream",
     "text": [
      "              precision    recall  f1-score   support\n",
      "\n",
      "           1       0.59      0.68      0.63     10000\n",
      "           2       0.43      0.41      0.42     10000\n",
      "           3       0.43      0.38      0.40     10000\n",
      "           4       0.53      0.55      0.54     10000\n",
      "           5       0.79      0.76      0.78     10000\n",
      "\n",
      "    accuracy                           0.56     50000\n",
      "   macro avg       0.55      0.56      0.55     50000\n",
      "weighted avg       0.55      0.56      0.55     50000\n",
      "\n",
      "              precision    recall  f1-score   support\n",
      "\n",
      "           1       0.59      0.67      0.63      2500\n",
      "           2       0.43      0.40      0.41      2500\n",
      "           3       0.43      0.39      0.41      2500\n",
      "           4       0.53      0.57      0.55      2500\n",
      "           5       0.79      0.76      0.78      2500\n",
      "\n",
      "    accuracy                           0.56     12500\n",
      "   macro avg       0.56      0.56      0.56     12500\n",
      "weighted avg       0.56      0.56      0.56     12500\n",
      "\n"
     ]
    }
   ],
   "source": [
    "scope = 'translated_proc'\n",
    "X_train = train[scope].to_numpy()\n",
    "y_train = train['rating'].to_numpy()\n",
    "\n",
    "X_test = test[scope].to_numpy()\n",
    "y_test = test['rating'].to_numpy()\n",
    "\n",
    "cv = StratifiedKFold(n_splits=5, random_state=123, shuffle=True)\n",
    "pipe = make_pipeline(CountVectorizer(min_df=50), MultinomialNB())\n",
    "\n",
    "y_preds = []\n",
    "y_true = []\n",
    "\n",
    "for i, (train_ix, test_ix) in enumerate(cv.split(X_train, y_train)):\n",
    "    y_pred = pipe.fit(X_train[train_ix], y_train[train_ix]).predict(X_train[test_ix])\n",
    "    y_preds.extend(y_pred)\n",
    "    y_true.extend(y_train[test_ix])\n",
    "\n",
    "print(metrics.classification_report(y_true, y_preds))\n",
    "\n",
    "pipe.fit(X_train, y_train)\n",
    "\n",
    "y_test_pred = pipe.predict(X_test)\n",
    "print(metrics.classification_report(y_test, y_test_pred))"
   ]
  },
  {
   "attachments": {},
   "cell_type": "markdown",
   "metadata": {},
   "source": [
    "#### English translation, lemmatized with stopwords removed"
   ]
  },
  {
   "cell_type": "code",
   "execution_count": 26,
   "metadata": {},
   "outputs": [
    {
     "name": "stdout",
     "output_type": "stream",
     "text": [
      "              precision    recall  f1-score   support\n",
      "\n",
      "           1       0.58      0.67      0.62     10000\n",
      "           2       0.42      0.41      0.41     10000\n",
      "           3       0.42      0.35      0.38     10000\n",
      "           4       0.51      0.53      0.52     10000\n",
      "           5       0.75      0.75      0.75     10000\n",
      "\n",
      "    accuracy                           0.54     50000\n",
      "   macro avg       0.54      0.54      0.54     50000\n",
      "weighted avg       0.54      0.54      0.54     50000\n",
      "\n",
      "              precision    recall  f1-score   support\n",
      "\n",
      "           1       0.57      0.65      0.61      2500\n",
      "           2       0.41      0.39      0.40      2500\n",
      "           3       0.43      0.37      0.40      2500\n",
      "           4       0.52      0.54      0.53      2500\n",
      "           5       0.76      0.76      0.76      2500\n",
      "\n",
      "    accuracy                           0.54     12500\n",
      "   macro avg       0.54      0.54      0.54     12500\n",
      "weighted avg       0.54      0.54      0.54     12500\n",
      "\n"
     ]
    }
   ],
   "source": [
    "scope = 'translated_proc_no_stop'\n",
    "X_train = train[scope].to_numpy()\n",
    "y_train = train['rating'].to_numpy()\n",
    "\n",
    "X_test = test[scope].to_numpy()\n",
    "y_test = test['rating'].to_numpy()\n",
    "\n",
    "cv = StratifiedKFold(n_splits=5, random_state=123, shuffle=True)\n",
    "pipe = make_pipeline(CountVectorizer(min_df=50), MultinomialNB())\n",
    "\n",
    "y_preds = []\n",
    "y_true = []\n",
    "\n",
    "for i, (train_ix, test_ix) in enumerate(cv.split(X_train, y_train)):\n",
    "    y_pred = pipe.fit(X_train[train_ix], y_train[train_ix]).predict(X_train[test_ix])\n",
    "    y_preds.extend(y_pred)\n",
    "    y_true.extend(y_train[test_ix])\n",
    "\n",
    "print(metrics.classification_report(y_true, y_preds))\n",
    "\n",
    "pipe.fit(X_train, y_train)\n",
    "\n",
    "y_test_pred = pipe.predict(X_test)\n",
    "print(metrics.classification_report(y_test, y_test_pred))"
   ]
  }
 ],
 "metadata": {
  "kernelspec": {
   "display_name": "tmsmm",
   "language": "python",
   "name": "python3"
  },
  "language_info": {
   "codemirror_mode": {
    "name": "ipython",
    "version": 3
   },
   "file_extension": ".py",
   "mimetype": "text/x-python",
   "name": "python",
   "nbconvert_exporter": "python",
   "pygments_lexer": "ipython3",
   "version": "3.10.9"
  },
  "orig_nbformat": 4,
  "vscode": {
   "interpreter": {
    "hash": "056f66996a9c4d81c65e6002a1ca08da18a62e1c6e37a0ec081f5552e597d624"
   }
  }
 },
 "nbformat": 4,
 "nbformat_minor": 2
}
