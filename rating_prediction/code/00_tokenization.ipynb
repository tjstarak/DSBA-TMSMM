{
 "cells": [
  {
   "cell_type": "code",
   "execution_count": null,
   "metadata": {},
   "outputs": [],
   "source": [
    "# - clean data\n",
    "# -- remove punctuation\n",
    "# -- remove stopwords (though this is not necessary for NB?)\n",
    "# -- tokenize\n",
    "# -- create mega-document\n",
    "# -- train NB classifier with cross-validation"
   ]
  },
  {
   "cell_type": "code",
   "execution_count": 10,
   "metadata": {},
   "outputs": [],
   "source": [
    "import pandas as pd\n",
    "import spacy\n",
    "\n",
    "reviews = pd.read_parquet('../data/reviews_sample_proc.parquet')[['original', 'translated', 'rating', 'partition', 'original_proc', 'original_proc_no_stop', 'translated_proc', 'translated_proc_no_stop']]\n",
    "# nlp = spacy.load('pl_core_news_lg')\n",
    "nlp = spacy.load('en_core_web_lg')"
   ]
  },
  {
   "cell_type": "code",
   "execution_count": 2,
   "metadata": {},
   "outputs": [],
   "source": [
    "parsed = list(nlp.pipe(reviews['translated']))"
   ]
  },
  {
   "cell_type": "code",
   "execution_count": 3,
   "metadata": {},
   "outputs": [],
   "source": [
    "reviews_tokenized = [[token.lemma_ for token in review if not token.is_punct] for review in parsed]\n",
    "reviews_tokenized_no_stop = [[token.lemma_ for token in review if (not token.is_punct) and (not token.is_stop)] for review in parsed]"
   ]
  },
  {
   "cell_type": "code",
   "execution_count": 4,
   "metadata": {},
   "outputs": [],
   "source": [
    "reviews['translated_proc'] = pd.Series(reviews_tokenized)\n",
    "reviews['translated_proc_no_stop'] = pd.Series(reviews_tokenized_no_stop)"
   ]
  },
  {
   "cell_type": "code",
   "execution_count": 11,
   "metadata": {},
   "outputs": [
    {
     "data": {
      "text/plain": [
       "Index(['original', 'translated', 'rating', 'partition', 'original_proc',\n",
       "       'original_proc_no_stop', 'translated_proc', 'translated_proc_no_stop'],\n",
       "      dtype='object')"
      ]
     },
     "execution_count": 11,
     "metadata": {},
     "output_type": "execute_result"
    }
   ],
   "source": [
    "reviews.columns"
   ]
  },
  {
   "cell_type": "code",
   "execution_count": 12,
   "metadata": {},
   "outputs": [],
   "source": [
    "reviews['original_proc'] = reviews['original_proc'].apply(lambda x: ' '.join(x.tolist()).lower())\n",
    "reviews['original_proc_no_stop'] = reviews['original_proc_no_stop'].apply(lambda x: ' '.join(x.tolist()).lower())\n",
    "reviews['translated_proc'] = reviews['translated_proc'].apply(lambda x: ' '.join(x.tolist()).lower())\n",
    "reviews['translated_proc_no_stop'] = reviews['translated_proc_no_stop'].apply(lambda x: ' '.join(x.tolist()).lower())"
   ]
  },
  {
   "cell_type": "code",
   "execution_count": 14,
   "metadata": {},
   "outputs": [],
   "source": [
    "reviews.to_parquet('../data/reviews_sample_proc.parquet')"
   ]
  }
 ],
 "metadata": {
  "kernelspec": {
   "display_name": "tmsmm",
   "language": "python",
   "name": "python3"
  },
  "language_info": {
   "codemirror_mode": {
    "name": "ipython",
    "version": 3
   },
   "file_extension": ".py",
   "mimetype": "text/x-python",
   "name": "python",
   "nbconvert_exporter": "python",
   "pygments_lexer": "ipython3",
   "version": "3.10.9"
  },
  "orig_nbformat": 4,
  "vscode": {
   "interpreter": {
    "hash": "056f66996a9c4d81c65e6002a1ca08da18a62e1c6e37a0ec081f5552e597d624"
   }
  }
 },
 "nbformat": 4,
 "nbformat_minor": 2
}
