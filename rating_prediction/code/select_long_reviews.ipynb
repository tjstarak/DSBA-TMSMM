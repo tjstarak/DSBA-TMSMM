{
 "cells": [
  {
   "cell_type": "code",
   "execution_count": 55,
   "metadata": {},
   "outputs": [],
   "source": [
    "import pandas as pd\n",
    "import polars as pl\n",
    "import numpy as np\n",
    "import seaborn as sns\n",
    "\n",
    "import os\n",
    "import pickle\n",
    "from itertools import chain\n",
    "\n",
    "import gc"
   ]
  },
  {
   "cell_type": "code",
   "execution_count": 2,
   "metadata": {},
   "outputs": [],
   "source": [
    "with open('/Users/tjstarak/Documents/GitHub/thesis/universe/reviews/completed/reviews_0_41677_pass1.pkl', 'rb') as f:\n",
    "    place_reviews = pickle.load(f)"
   ]
  },
  {
   "cell_type": "code",
   "execution_count": 3,
   "metadata": {},
   "outputs": [],
   "source": [
    "reviews = [r for v in place_reviews.values() for r in v['reviews'] if len(r['review_text']) > 0]\n",
    "long_reviews = [r for r in reviews if len(r['review_text']) >= 500]\n",
    "del reviews"
   ]
  },
  {
   "cell_type": "code",
   "execution_count": 20,
   "metadata": {},
   "outputs": [
    {
     "data": {
      "text/plain": [
       "[{'author': 'Zet Zet',\n",
       "  'rating': ' 2 stars ',\n",
       "  'age': '5 months ago',\n",
       "  'author_review_count': '17 reviews',\n",
       "  'review_text': '(Translated by Google) The quality of the food is very poor, the decor in the first room is terrible, the service is not very nice - I felt that the staff was not satisfied with the presence of guests. When ordering latte coffee, we got an ordinary, soluble with milk in a tall glass ... I do not recommend it, nothing has changed for the better over the years.\\n\\n(Original)\\nJakość jedzenia bardzo słaba, wystrój na pierwszej sali tragiczny, obsługa niezbyt miła - czułam, że obsługa nie była zadowolona z obecności gości. Zamawiając kawę latte dostaliśmy zwykłą rozpuszczalną z mlekiem w wysokiej szklance… Nie polecam, przez lata nic się tam nie zmieniło na lepsze.',\n",
       "  'review_keywords': {}},\n",
       " {'author': 'Ewka Klyz',\n",
       "  'rating': ' 1 star ',\n",
       "  'age': '9 months ago',\n",
       "  'author_review_count': '1 review',\n",
       "  'review_text': '(Translated by Google) The food is tasty, but by the chef, one star is too much. The Lord is clearly dissatisfied with the presence of customers. He comments loudly all the time and complains until he refuses to eat and be there. We will definitely not be going back there and we will not recommend it !!!\\n\\n(Original)\\nJedzenie smaczne,  ale przez pana z kuchni jedna gwiazdka to za dużo. Pan ewidentnie jest niezadowolny z obecności klientów. Cały czas głośno komentuje i narzeka aż się odechciewa jeść i tam przebywać. Na pewno tam nie wrócimy i nie będziemy polecać!!!',\n",
       "  'review_keywords': {}},\n",
       " {'author': 'Justyna Krasa',\n",
       "  'rating': ' 1 star ',\n",
       "  'age': 'a year ago',\n",
       "  'author_review_count': '2 reviews',\n",
       "  'review_text': '(Translated by Google) I am amazed at the level of service in the premises. Waiting time over an hour.\\nIn addition, I advise you to watch out for sour rye soup acidified with sauerkraut juice and thickened with flour. Grilled pork neck was hard to chew. For people with a strong bite.\\nI do not recommend this place.\\n\\n(Original)\\nJestem zdumiona poziomem obsługi w lokalu. Czas oczekiwania ponad godzinę.\\nDodatkowo radzę uważać na żurek zakwaszony sokiem z kiszonej kapusty i zagęszczony mąką. Grillowaną karkówką trudno było pogryźć. Dla osób z mocnym zgryzem.\\nNie polecam tego miejsca.',\n",
       "  'review_keywords': {}},\n",
       " {'author': 'Piotr Góral',\n",
       "  'rating': ' 3 stars ',\n",
       "  'age': 'a year ago',\n",
       "  'author_review_count': '· 117 reviews',\n",
       "  'review_text': '(Translated by Google) Big question mark as to whether this is the fault of the pandemic or something else. The decor does not knock me down, the food is pretty cool, I took broth and beans - better beans, but I had a strange feeling that everything is from a different fairy tale. From place to service. You can not pay by card and most importantly ...... The price that the site is past on the card is the second time.\\n\\n(Original)\\nDuży znak zapytania, czy to wina pandemii czy  coś innego. Wystrój nie powala, jedzenie w sumie spoko brałem rosół i fasolkę - fasolka lepsza, ale miałem dziwne wrażenie że wszystko jest z innej  bajki. Od miejsca po obsługę. Nie można płacić kartą i najważniejsze...... Ceny że strony to przeszłość na miejscu w karcie jest drugi raz tyle.',\n",
       "  'review_keywords': {}},\n",
       " {'author': 'sqbi5',\n",
       "  'rating': ' 1 star ',\n",
       "  'age': '2 years ago',\n",
       "  'author_review_count': '1 review',\n",
       "  'review_text': '(Translated by Google) Watch out for the washcloth. Programs are not running and this is not the first time. Today I tried to wash the car and the brush and active foam do not work. Water runs like blood from the nose. Next to me, in the second seat, a woman was washing the car, and the same thing was that she only sprayed the car and nothing else. But the vending machine devours the money in the blink of an eye. Defeat\\n\\n(Original)\\nUwaga na myjkę. Nie działają programy i nie jest to pierwszy raz.  Dziś usiłowałem umyć samochód i nie działa szczotka oraz mycie aktywną pianą. Woda leci jak krew z nosa. Obok mnie na drugim stanowisku samochód myla kobieta i tak samo tyle że spryskala tylko samochód i nic więcej. Ale automat kasę pożera w mgnieniu oka. Porażka',\n",
       "  'review_keywords': {}},\n",
       " {'author': 'Gabriela',\n",
       "  'rating': ' 4 stars ',\n",
       "  'age': '3 years ago',\n",
       "  'author_review_count': '· 50 reviews',\n",
       "  'review_text': \"(Translated by Google) A place with great potential, a lot was done to make it hospitable and cozy, but penne with chicken and cheese was a misunderstanding. I paid for a not very tasty culinary experiment. Instead of tomato sauce, raw tomatoes. Instead of Italian pasta, ordinary tubes. The cook's failure. It's a pity, because it was nice to sit under an umbrella near a pond and admire the vast beautiful views.\\n\\n(Original)\\nLokal z dużym potencjałem, zrobiono naprawdę wiele, aby było gościnnie i przytulnie, jednak penne z kurczakiem i serem było jakimś nieporozumieniem. Zapłaciłam za niezbyt smaczny kulinarny eksperyment. Zamiast sosu pomidorowego surowe pomidory. Zamiast włoskiego makaronu zwykłe rurki. Porażka kucharza. A szkoda, bo przyjemnie było posiedzieć pod parasolem w pobliżu oczka wodnego i podziwiać rozległe piękne widoki.\",\n",
       "  'review_keywords': {}},\n",
       " {'author': 'Tomasz C.',\n",
       "  'rating': ' 5 stars ',\n",
       "  'age': '4 years ago',\n",
       "  'author_review_count': '· 290 reviews',\n",
       "  'review_text': \"(Translated by Google) We ordered something different than goulash soup and dumplings (Hungarian pancakes), I have to admit that they were delicious, well presented and to your heart's content. The waiting time is about 20 minutes, the service is very friendly. The only drawback is that you cannot pay by card. I recommend.\\n\\n(Original)\\nZamówiliśmy coś innego niż zupa gulaszowa i pierogi (placki po węgiersku) muszę przyznać że były pyszne, ładnie podane i do syta. Czas oczekiwania około 20 min, obsługa bardzo miła jedyny minus za brak możliwości płacenia kartą. Polecam.\",\n",
       "  'review_keywords': {}},\n",
       " {'author': 'Pan Ryszard',\n",
       "  'rating': ' 5 stars ',\n",
       "  'age': '4 years ago',\n",
       "  'author_review_count': '· 17 reviews',\n",
       "  'review_text': \"(Translated by Google) I will say this; I haven't eaten such a good goulash soup made of poultry stomachs. Unfortunately, I didn't eat all the dumplings for the second course. The waitress did not warn me that the soup would be nice and not a plate, so there was not enough space for the dumplings. 2 items left. Delicious, the more that the kind lady proposed a mix of dumplings, i.e. Russian dumplings with meat. Nice service. Quickly served, hot and tasty. I recommend.\\n\\n(Original)\\nPowiem tak; tak dobrej zupy gulaszowej z drobiowych żołądków jeszcze nie jadłem. Niestety nie zjadłem wszystkich pierogów na drugie danie . Kelnerka nie uprzedziła mnie że zupy będzie micha a nie talerzyk, więc na pierogi brakło miejsca. Zostały 2 sztuki. Pyszne, tym bardziej że przemiła Pani zaproponowała mix pierogów czyli ruskie z mięsnymi. Przemiła obsługa. Szybko podane, gorące i smaczne. Polecam.\",\n",
       "  'review_keywords': {}},\n",
       " {'author': 'Schneckendoktor R',\n",
       "  'rating': ' 2 stars ',\n",
       "  'age': 'a year ago',\n",
       "  'author_review_count': '· 18 reviews',\n",
       "  'review_text': '(Translated by Google) The prices are quite low, the taste of Gyros is quite good, the Gyros set is average, today they served cold food after about 15-20 minutes of waiting without queuing! There were 3 girls in the booth, they ignored the customers, and they talked aloud about company problems. I do not recommend\\n\\n(Original)\\nCeny sa dosc niskie, smak Gyrosa dosc dobry, zestaw Gyros sredni, dzisiaj zimne jedzenie podali po ok 15-20 min czekania bez kolejki! Staly 3 dziewczyny w budce, ignorowali klientow, dyskutowali na glos o problemach firmowych. Nie polecam',\n",
       "  'review_keywords': {}},\n",
       " {'author': 'Małgorzata N.',\n",
       "  'rating': ' 5 stars ',\n",
       "  'age': 'a month ago',\n",
       "  'author_review_count': '21 reviews',\n",
       "  'review_text': '(Translated by Google) A very positive impression after the first visit to this place. Returning to Szczecin, my husband and I decided to go to Gorzów for a little something and we chose this restaurant with Google. The staff was very helpful. Right at the entrance, we were offered a table in the best place - on the first floor with a view of the boulevards and… Mustang 😃 As we had eaten quite a long lunch in Zielona Góra, we only tried bruschetta and dessert in the Livingroom. Everything was very tasty and we will definitely return to this place at the earliest opportunity. And finally, I would like to praise the waitress once again, because we always pay attention to it. Professional service! Thank you very much :)\\n\\n(Original)\\nBardzo pozytywne wrażenie po pierwszej wizycie w tym lokalu. Wracając do Szczecina postanowiłam z mężem zajechać na małe co nieco do Gorzowa i wybraliśmy z Google tę knajpę. Obsługa bardzo pomocna. Od razu przy wejściu zaproponowano nam stolik i to w najlepszym miejscu - na piętrze z widokiem na bulwary i na…Mustanga 😃 W związku z tym, że wcześniej jedliśmy dosyć spory obiad w Zielonej Górze to w Livingroom spróbowaliśmy jedynie bruschetty i deseru. Wszystko było bardzo smaczne i na pewno wrócimy do tego lokalu przy najbliższej okazji. A na koniec jeszcze raz pochwalę Panie kelnerki bo zawsze zwracamy na to uwagę. Obsługa profesjonalna! Dziękujemy pięknie :)',\n",
       "  'review_keywords': {}}]"
      ]
     },
     "execution_count": 20,
     "metadata": {},
     "output_type": "execute_result"
    }
   ],
   "source": [
    "long_reviews[:10]"
   ]
  },
  {
   "cell_type": "code",
   "execution_count": 46,
   "metadata": {},
   "outputs": [],
   "source": [
    "sorted_reviews = [dict(sorted(r.items())) for r in long_reviews]"
   ]
  },
  {
   "cell_type": "code",
   "execution_count": 59,
   "metadata": {},
   "outputs": [
    {
     "data": {
      "text/plain": [
       "[{'age': '5 months ago',\n",
       "  'author': 'Zet Zet',\n",
       "  'author_review_count': '17 reviews',\n",
       "  'rating': ' 2 stars ',\n",
       "  'review_keywords': {},\n",
       "  'review_text': '(Translated by Google) The quality of the food is very poor, the decor in the first room is terrible, the service is not very nice - I felt that the staff was not satisfied with the presence of guests. When ordering latte coffee, we got an ordinary, soluble with milk in a tall glass ... I do not recommend it, nothing has changed for the better over the years.\\n\\n(Original)\\nJakość jedzenia bardzo słaba, wystrój na pierwszej sali tragiczny, obsługa niezbyt miła - czułam, że obsługa nie była zadowolona z obecności gości. Zamawiając kawę latte dostaliśmy zwykłą rozpuszczalną z mlekiem w wysokiej szklance… Nie polecam, przez lata nic się tam nie zmieniło na lepsze.'},\n",
       " {'age': '9 months ago',\n",
       "  'author': 'Ewka Klyz',\n",
       "  'author_review_count': '1 review',\n",
       "  'rating': ' 1 star ',\n",
       "  'review_keywords': {},\n",
       "  'review_text': '(Translated by Google) The food is tasty, but by the chef, one star is too much. The Lord is clearly dissatisfied with the presence of customers. He comments loudly all the time and complains until he refuses to eat and be there. We will definitely not be going back there and we will not recommend it !!!\\n\\n(Original)\\nJedzenie smaczne,  ale przez pana z kuchni jedna gwiazdka to za dużo. Pan ewidentnie jest niezadowolny z obecności klientów. Cały czas głośno komentuje i narzeka aż się odechciewa jeść i tam przebywać. Na pewno tam nie wrócimy i nie będziemy polecać!!!'},\n",
       " {'age': 'a year ago',\n",
       "  'author': 'Justyna Krasa',\n",
       "  'author_review_count': '2 reviews',\n",
       "  'rating': ' 1 star ',\n",
       "  'review_keywords': {},\n",
       "  'review_text': '(Translated by Google) I am amazed at the level of service in the premises. Waiting time over an hour.\\nIn addition, I advise you to watch out for sour rye soup acidified with sauerkraut juice and thickened with flour. Grilled pork neck was hard to chew. For people with a strong bite.\\nI do not recommend this place.\\n\\n(Original)\\nJestem zdumiona poziomem obsługi w lokalu. Czas oczekiwania ponad godzinę.\\nDodatkowo radzę uważać na żurek zakwaszony sokiem z kiszonej kapusty i zagęszczony mąką. Grillowaną karkówką trudno było pogryźć. Dla osób z mocnym zgryzem.\\nNie polecam tego miejsca.'},\n",
       " {'age': 'a year ago',\n",
       "  'author': 'Piotr Góral',\n",
       "  'author_review_count': '· 117 reviews',\n",
       "  'rating': ' 3 stars ',\n",
       "  'review_keywords': {},\n",
       "  'review_text': '(Translated by Google) Big question mark as to whether this is the fault of the pandemic or something else. The decor does not knock me down, the food is pretty cool, I took broth and beans - better beans, but I had a strange feeling that everything is from a different fairy tale. From place to service. You can not pay by card and most importantly ...... The price that the site is past on the card is the second time.\\n\\n(Original)\\nDuży znak zapytania, czy to wina pandemii czy  coś innego. Wystrój nie powala, jedzenie w sumie spoko brałem rosół i fasolkę - fasolka lepsza, ale miałem dziwne wrażenie że wszystko jest z innej  bajki. Od miejsca po obsługę. Nie można płacić kartą i najważniejsze...... Ceny że strony to przeszłość na miejscu w karcie jest drugi raz tyle.'},\n",
       " {'age': '2 years ago',\n",
       "  'author': 'sqbi5',\n",
       "  'author_review_count': '1 review',\n",
       "  'rating': ' 1 star ',\n",
       "  'review_keywords': {},\n",
       "  'review_text': '(Translated by Google) Watch out for the washcloth. Programs are not running and this is not the first time. Today I tried to wash the car and the brush and active foam do not work. Water runs like blood from the nose. Next to me, in the second seat, a woman was washing the car, and the same thing was that she only sprayed the car and nothing else. But the vending machine devours the money in the blink of an eye. Defeat\\n\\n(Original)\\nUwaga na myjkę. Nie działają programy i nie jest to pierwszy raz.  Dziś usiłowałem umyć samochód i nie działa szczotka oraz mycie aktywną pianą. Woda leci jak krew z nosa. Obok mnie na drugim stanowisku samochód myla kobieta i tak samo tyle że spryskala tylko samochód i nic więcej. Ale automat kasę pożera w mgnieniu oka. Porażka'},\n",
       " {'age': '3 years ago',\n",
       "  'author': 'Gabriela',\n",
       "  'author_review_count': '· 50 reviews',\n",
       "  'rating': ' 4 stars ',\n",
       "  'review_keywords': {},\n",
       "  'review_text': \"(Translated by Google) A place with great potential, a lot was done to make it hospitable and cozy, but penne with chicken and cheese was a misunderstanding. I paid for a not very tasty culinary experiment. Instead of tomato sauce, raw tomatoes. Instead of Italian pasta, ordinary tubes. The cook's failure. It's a pity, because it was nice to sit under an umbrella near a pond and admire the vast beautiful views.\\n\\n(Original)\\nLokal z dużym potencjałem, zrobiono naprawdę wiele, aby było gościnnie i przytulnie, jednak penne z kurczakiem i serem było jakimś nieporozumieniem. Zapłaciłam za niezbyt smaczny kulinarny eksperyment. Zamiast sosu pomidorowego surowe pomidory. Zamiast włoskiego makaronu zwykłe rurki. Porażka kucharza. A szkoda, bo przyjemnie było posiedzieć pod parasolem w pobliżu oczka wodnego i podziwiać rozległe piękne widoki.\"},\n",
       " {'age': '4 years ago',\n",
       "  'author': 'Tomasz C.',\n",
       "  'author_review_count': '· 290 reviews',\n",
       "  'rating': ' 5 stars ',\n",
       "  'review_keywords': {},\n",
       "  'review_text': \"(Translated by Google) We ordered something different than goulash soup and dumplings (Hungarian pancakes), I have to admit that they were delicious, well presented and to your heart's content. The waiting time is about 20 minutes, the service is very friendly. The only drawback is that you cannot pay by card. I recommend.\\n\\n(Original)\\nZamówiliśmy coś innego niż zupa gulaszowa i pierogi (placki po węgiersku) muszę przyznać że były pyszne, ładnie podane i do syta. Czas oczekiwania około 20 min, obsługa bardzo miła jedyny minus za brak możliwości płacenia kartą. Polecam.\"},\n",
       " {'age': '4 years ago',\n",
       "  'author': 'Pan Ryszard',\n",
       "  'author_review_count': '· 17 reviews',\n",
       "  'rating': ' 5 stars ',\n",
       "  'review_keywords': {},\n",
       "  'review_text': \"(Translated by Google) I will say this; I haven't eaten such a good goulash soup made of poultry stomachs. Unfortunately, I didn't eat all the dumplings for the second course. The waitress did not warn me that the soup would be nice and not a plate, so there was not enough space for the dumplings. 2 items left. Delicious, the more that the kind lady proposed a mix of dumplings, i.e. Russian dumplings with meat. Nice service. Quickly served, hot and tasty. I recommend.\\n\\n(Original)\\nPowiem tak; tak dobrej zupy gulaszowej z drobiowych żołądków jeszcze nie jadłem. Niestety nie zjadłem wszystkich pierogów na drugie danie . Kelnerka nie uprzedziła mnie że zupy będzie micha a nie talerzyk, więc na pierogi brakło miejsca. Zostały 2 sztuki. Pyszne, tym bardziej że przemiła Pani zaproponowała mix pierogów czyli ruskie z mięsnymi. Przemiła obsługa. Szybko podane, gorące i smaczne. Polecam.\"},\n",
       " {'age': 'a year ago',\n",
       "  'author': 'Schneckendoktor R',\n",
       "  'author_review_count': '· 18 reviews',\n",
       "  'rating': ' 2 stars ',\n",
       "  'review_keywords': {},\n",
       "  'review_text': '(Translated by Google) The prices are quite low, the taste of Gyros is quite good, the Gyros set is average, today they served cold food after about 15-20 minutes of waiting without queuing! There were 3 girls in the booth, they ignored the customers, and they talked aloud about company problems. I do not recommend\\n\\n(Original)\\nCeny sa dosc niskie, smak Gyrosa dosc dobry, zestaw Gyros sredni, dzisiaj zimne jedzenie podali po ok 15-20 min czekania bez kolejki! Staly 3 dziewczyny w budce, ignorowali klientow, dyskutowali na glos o problemach firmowych. Nie polecam'},\n",
       " {'age': 'a month ago',\n",
       "  'author': 'Małgorzata N.',\n",
       "  'author_review_count': '21 reviews',\n",
       "  'rating': ' 5 stars ',\n",
       "  'review_keywords': {},\n",
       "  'review_text': '(Translated by Google) A very positive impression after the first visit to this place. Returning to Szczecin, my husband and I decided to go to Gorzów for a little something and we chose this restaurant with Google. The staff was very helpful. Right at the entrance, we were offered a table in the best place - on the first floor with a view of the boulevards and… Mustang 😃 As we had eaten quite a long lunch in Zielona Góra, we only tried bruschetta and dessert in the Livingroom. Everything was very tasty and we will definitely return to this place at the earliest opportunity. And finally, I would like to praise the waitress once again, because we always pay attention to it. Professional service! Thank you very much :)\\n\\n(Original)\\nBardzo pozytywne wrażenie po pierwszej wizycie w tym lokalu. Wracając do Szczecina postanowiłam z mężem zajechać na małe co nieco do Gorzowa i wybraliśmy z Google tę knajpę. Obsługa bardzo pomocna. Od razu przy wejściu zaproponowano nam stolik i to w najlepszym miejscu - na piętrze z widokiem na bulwary i na…Mustanga 😃 W związku z tym, że wcześniej jedliśmy dosyć spory obiad w Zielonej Górze to w Livingroom spróbowaliśmy jedynie bruschetty i deseru. Wszystko było bardzo smaczne i na pewno wrócimy do tego lokalu przy najbliższej okazji. A na koniec jeszcze raz pochwalę Panie kelnerki bo zawsze zwracamy na to uwagę. Obsługa profesjonalna! Dziękujemy pięknie :)'}]"
      ]
     },
     "execution_count": 59,
     "metadata": {},
     "output_type": "execute_result"
    }
   ],
   "source": [
    "sorted_reviews[:10]"
   ]
  },
  {
   "cell_type": "code",
   "execution_count": 68,
   "metadata": {},
   "outputs": [],
   "source": [
    "reviews_df = pl.from_dicts(\n",
    "    sorted_reviews, \n",
    "    schema={\n",
    "        'age': pl.Utf8, \n",
    "        'author': pl.Utf8, \n",
    "        'author_review_count': pl.Utf8, \n",
    "        'rating': pl.Utf8,\n",
    "        'review_keywords': pl.Object,\n",
    "        'review_text': pl.Utf8\n",
    "    }\n",
    ")"
   ]
  },
  {
   "cell_type": "code",
   "execution_count": 71,
   "metadata": {},
   "outputs": [],
   "source": [
    "reviews_df.write_csv('long_reviews.csv')"
   ]
  },
  {
   "cell_type": "code",
   "execution_count": 9,
   "metadata": {},
   "outputs": [],
   "source": [
    "lens = [len(r['review_text']) for r in reviews]\n",
    "lens = np.array(lens)"
   ]
  },
  {
   "cell_type": "code",
   "execution_count": 16,
   "metadata": {},
   "outputs": [
    {
     "data": {
      "text/plain": [
       "824556"
      ]
     },
     "execution_count": 16,
     "metadata": {},
     "output_type": "execute_result"
    }
   ],
   "source": [
    "np.sum(lens > 500)"
   ]
  }
 ],
 "metadata": {
  "kernelspec": {
   "display_name": "tmsmm",
   "language": "python",
   "name": "python3"
  },
  "language_info": {
   "codemirror_mode": {
    "name": "ipython",
    "version": 3
   },
   "file_extension": ".py",
   "mimetype": "text/x-python",
   "name": "python",
   "nbconvert_exporter": "python",
   "pygments_lexer": "ipython3",
   "version": "3.10.9"
  },
  "orig_nbformat": 4,
  "vscode": {
   "interpreter": {
    "hash": "056f66996a9c4d81c65e6002a1ca08da18a62e1c6e37a0ec081f5552e597d624"
   }
  }
 },
 "nbformat": 4,
 "nbformat_minor": 2
}
